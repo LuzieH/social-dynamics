{
 "metadata": {
  "language_info": {
   "codemirror_mode": {
    "name": "ipython",
    "version": 3
   },
   "file_extension": ".py",
   "mimetype": "text/x-python",
   "name": "python",
   "nbconvert_exporter": "python",
   "pygments_lexer": "ipython3",
   "version": "3.9.5"
  },
  "orig_nbformat": 2,
  "kernelspec": {
   "name": "python3",
   "display_name": "Python 3.9.5 64-bit ('social_dynamics_venv': venv)"
  },
  "interpreter": {
   "hash": "e9ae0c68b50dbe7f0857f7e7224d431b77dcd9f0ab924727bcb2969f1e763b2b"
  }
 },
 "nbformat": 4,
 "nbformat_minor": 2,
 "cells": [
  {
   "cell_type": "code",
   "execution_count": null,
   "source": [
    "import matplotlib.pyplot as plt\r\n",
    "import numpy as np\r\n",
    "import os\r\n",
    "from pathlib import Path\r\n",
    "import tensorflow as tf\r\n",
    "from tensorflow.keras.models import Model\r\n",
    "from tensorflow.keras.losses import MSE\r\n",
    "import utils\r\n",
    "from social_dynamics.autoencoder_utils import create_dataset\r\n",
    "\r\n",
    "os.environ['CUDA_VISIBLE_DEVICES'] = '-1'\r\n",
    "root_path = utils.determine_root_path()"
   ],
   "outputs": [],
   "metadata": {}
  },
  {
   "cell_type": "code",
   "execution_count": null,
   "source": [
    "experiment_series_folder = root_path.joinpath(\"experiments_results\", \"2_opt-h_luzie-alpha_beta_gamma_delta_expl-0.0001t\")\r\n",
    "\r\n",
    "experiment_runs_folders = [folder for folder in experiment_series_folder.iterdir()]\r\n",
    "\r\n",
    "model_type = \"dnn\"\r\n",
    "model_path = Path(\"C:/Users/maler/Federico/Lavoro/ZIB/autoencoder_clustering/autoencoder_model/model.h5\")"
   ],
   "outputs": [],
   "metadata": {}
  },
  {
   "cell_type": "code",
   "execution_count": null,
   "source": [
    "model = tf.keras.models.load_model(model_path)\r\n",
    "autoencoder = Model(model.input, model.get_layer('embedding').output)"
   ],
   "outputs": [],
   "metadata": {}
  },
  {
   "cell_type": "code",
   "execution_count": null,
   "source": [
    "folder = np.random.choice(experiment_runs_folders)\r\n",
    "state_metric = utils.load_metrics(folder)[\"StateMetric\"][::4]\r\n",
    "inputs = state_metric.flatten()\r\n",
    "assert np.all(np.reshape(inputs, state_metric.shape) == state_metric)\r\n",
    "\r\n",
    "preds = model.predict(inputs[np.newaxis])"
   ],
   "outputs": [],
   "metadata": {}
  },
  {
   "cell_type": "code",
   "execution_count": null,
   "source": [
    "utils.plot_agents_option(state_metric)"
   ],
   "outputs": [],
   "metadata": {}
  },
  {
   "cell_type": "code",
   "execution_count": null,
   "source": [
    "utils.plot_agents_option(np.reshape(preds, state_metric.shape))"
   ],
   "outputs": [],
   "metadata": {}
  },
  {
   "cell_type": "markdown",
   "source": [
    "# Random plots"
   ],
   "metadata": {}
  },
  {
   "cell_type": "code",
   "execution_count": null,
   "source": [
    "folders = np.random.choice(experiment_runs_folders, size=10)\n",
    "state_metrics = [utils.load_metrics(folder)[\"StateMetric\"][::4] for folder in folders]\n",
    "inputs = np.array([state_metric.flatten() for state_metric in state_metrics])\n",
    "\n",
    "preds = model.predict(inputs)\n",
    "\n",
    "n_agents, n_options = state_metrics[0].shape[1:]\n",
    "\n",
    "plt.figure(figsize=(20, 60))\n",
    "for i in range(len(state_metrics)):\n",
    "\n",
    "    for option in range(n_options):\n",
    "        plt.subplot(n_options*len(state_metrics), 2, 1 + i*4 + option*2)\n",
    "        for agent in range(n_agents):\n",
    "            plt.plot(state_metrics[i][:, agent, option], label=str(agent))\n",
    "    \n",
    "    for option in range(n_options):\n",
    "        plt.subplot(n_options*len(state_metrics), 2, 2 + i*4 + option*2)\n",
    "        for agent in range(n_agents):\n",
    "            to_plot = np.reshape(preds[i], state_metrics[0].shape)\n",
    "            plt.plot(to_plot[:, agent, option], label=str(agent))\n",
    "\n",
    "plt.tight_layout()\n",
    "\n",
    "\n",
    "plt.show()"
   ],
   "outputs": [],
   "metadata": {}
  },
  {
   "cell_type": "markdown",
   "source": [
    "# Worse prediction plots"
   ],
   "metadata": {}
  },
  {
   "cell_type": "code",
   "execution_count": null,
   "source": [
    "dataset = create_dataset(experiment_series_folder, model_type=model_type, downsampling=4, cut=False)\n",
    "file_pattern = str(experiment_series_folder) + \"/*/StateMetric/results_t200000.npy\"\n",
    "file_dataset = tf.data.Dataset.list_files(file_pattern=file_pattern, shuffle=False)"
   ],
   "outputs": [],
   "metadata": {}
  },
  {
   "cell_type": "code",
   "execution_count": null,
   "source": [
    "y_preds = model.predict(dataset.batch(128).prefetch(tf.data.experimental.AUTOTUNE))\n",
    "y_true = np.array(list(dataset.as_numpy_iterator()))[:, 1, :]\n",
    "mses = MSE(y_true, y_preds)\n",
    "\n",
    "worse_preds = np.argsort(mses)[-100:]\n",
    "worse_files = np.array(list(file_dataset.as_numpy_iterator()))[worse_preds]"
   ],
   "outputs": [],
   "metadata": {}
  },
  {
   "cell_type": "code",
   "execution_count": null,
   "source": [
    "files = np.random.choice(worse_files, size=10)\n",
    "state_metrics = [np.load(file)[::4] for file in files]\n",
    "inputs = np.array([state_metric.flatten() for state_metric in state_metrics])\n",
    "\n",
    "preds = model.predict(inputs)\n",
    "\n",
    "n_agents, n_options = state_metrics[0].shape[1:]\n",
    "\n",
    "plt.figure(figsize=(20, 60))\n",
    "for i in range(len(state_metrics)):\n",
    "\n",
    "    for option in range(n_options):\n",
    "        plt.subplot(n_options*len(state_metrics), 2, 1 + i*4 + option*2)\n",
    "        for agent in range(n_agents):\n",
    "            plt.plot(state_metrics[i][:, agent, option], label=str(agent))\n",
    "    \n",
    "    for option in range(n_options):\n",
    "        plt.subplot(n_options*len(state_metrics), 2, 2 + i*4 + option*2)\n",
    "        for agent in range(n_agents):\n",
    "            to_plot = np.reshape(preds[i], state_metrics[0].shape)\n",
    "            plt.plot(to_plot[:, agent, option], label=str(agent))\n",
    "\n",
    "plt.tight_layout()\n",
    "plt.show()"
   ],
   "outputs": [],
   "metadata": {}
  },
  {
   "cell_type": "markdown",
   "source": [
    "# MSE distribution"
   ],
   "metadata": {}
  },
  {
   "cell_type": "code",
   "execution_count": null,
   "source": [
    "dataset = create_dataset(experiment_series_folder, model_type=model_type, downsampling=4, cut=False)\n",
    "\n",
    "print(\"Created dataset\")\n",
    "y_preds = model.predict(dataset.batch(128).prefetch(tf.data.experimental.AUTOTUNE))\n",
    "print(\"Predicted\")\n",
    "y_true = np.array(list(dataset.as_numpy_iterator()))[:, 1, :]\n",
    "mses = MSE(y_true, y_preds).numpy()\n"
   ],
   "outputs": [],
   "metadata": {}
  },
  {
   "cell_type": "code",
   "execution_count": null,
   "source": [
    "plt.figure(figsize=(15, 5))\n",
    "plt.hist(mses, bins=200)\n",
    "plt.yscale(\"log\")\n",
    "plt.show()"
   ],
   "outputs": [],
   "metadata": {}
  }
 ]
}