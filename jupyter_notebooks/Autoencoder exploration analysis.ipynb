{
 "cells": [
  {
   "cell_type": "code",
   "execution_count": null,
   "source": [
    "import matplotlib.pyplot as plt\n",
    "import matplotlib.image as mpimg\n",
    "import numpy as np\n",
    "import os\n",
    "from pathlib import Path\n",
    "from social_dynamics import autoencoder_utils\n",
    "import utils\n",
    "\n",
    "os.environ['CUDA_VISIBLE_DEVICES'] = '-1'\n",
    "\n",
    "root_path = utils.determine_root_path()"
   ],
   "outputs": [],
   "metadata": {}
  },
  {
   "cell_type": "code",
   "execution_count": null,
   "source": [
    "autoencoder_clustering_path = root_path.joinpath(\"large_autoencoder_clustering\")\n",
    "autoencoder_results_path = autoencoder_clustering_path.joinpath(\"autoencoders_results\")\n",
    "model_input_types = [\"cnn-complete\", \"cnn-cut\", \"dnn-complete\", \"dnn-cut\"]\n",
    "\n",
    "results = utils.load_autoencoder_exploration_results(path=autoencoder_clustering_path,\n",
    "                                                     model_input_types=model_input_types)"
   ],
   "outputs": [],
   "metadata": {}
  },
  {
   "cell_type": "markdown",
   "source": [
    "# MSE Distribution over models"
   ],
   "metadata": {}
  },
  {
   "cell_type": "code",
   "execution_count": null,
   "source": [
    "plt.figure(figsize=(15, 15))\n",
    "for i, model_input_type in enumerate(model_input_types):\n",
    "    plt.subplot(4, 1, i+1)\n",
    "    plt.hist(results[results[\"Model-Input Type\"] == model_input_type][\"MSE\"], bins=50)\n",
    "    plt.xlim(0, 12)\n",
    "    plt.xlabel('MSE')\n",
    "    plt.ylabel('Frequency')\n",
    "    plt.title(model_input_type)\n",
    "\n",
    "plt.tight_layout()\n",
    "plt.show()"
   ],
   "outputs": [],
   "metadata": {}
  },
  {
   "cell_type": "code",
   "execution_count": null,
   "source": [
    "plt.figure(figsize=(15, 15))\n",
    "for i, model_input_type in enumerate(model_input_types):\n",
    "    plt.subplot(4, 1, i+1)\n",
    "    mse_results = results[results[\"Model-Input Type\"] == model_input_type][\"MSE\"].values\n",
    "    n_params_dist = results[results[\"Model-Input Type\"] == model_input_type][\"N. Params\"].values\n",
    "    plt.scatter(n_params_dist, mse_results, s=2)\n",
    "    best_model_index = np.argmin(mse_results)\n",
    "    plt.scatter(n_params_dist[best_model_index], mse_results[best_model_index], s=20, c='red', label='Best Performer')\n",
    "    plt.xlabel('Number of parameters')\n",
    "    plt.ylabel('MSE Score')\n",
    "    plt.xscale('log')\n",
    "    plt.xlim(2*10**5, 1.5*10**9)\n",
    "    plt.title(model_input_type + f'      Best model: {best_model_index}')\n",
    "    plt.legend()\n",
    "\n",
    "plt.tight_layout()\n",
    "plt.show()"
   ],
   "outputs": [],
   "metadata": {}
  },
  {
   "cell_type": "markdown",
   "source": [
    "# Sample Autoencoder MSE distribution"
   ],
   "metadata": {}
  },
  {
   "cell_type": "code",
   "execution_count": null,
   "source": [
    "model_path = autoencoder_results_path.joinpath(\n",
    "    utils.select_autoencoder_model(model_input_type='cnn-cut', results=results, mode='best', start=6, end=7))\n",
    "\n",
    "plt.figure(figsize=(20, 8))\n",
    "plt.hist(np.load(model_path.joinpath('mses.npy')), bins=200)\n",
    "plt.title(model_path.name)\n",
    "plt.show()"
   ],
   "outputs": [],
   "metadata": {}
  },
  {
   "cell_type": "markdown",
   "source": [
    "# Sample Autoencoder predictions"
   ],
   "metadata": {}
  },
  {
   "cell_type": "code",
   "execution_count": null,
   "source": [
    "series_dir_path = Path(\"/home/htc/fmalerba/experiments_results/2_opt-h_luzie-alpha_beta_gamma_delta_expl-0.0001t\")\n",
    "datasets, n_agents, n_options = autoencoder_utils.load_all_datasets(series_dir=series_dir_path,\n",
    "                                                                    downsampling=4)\n",
    "y_trues = dict([(key, np.array(list(datasets[key].as_numpy_iterator()))[:, 1])\n",
    "                for key in datasets])\n",
    "del datasets"
   ],
   "outputs": [],
   "metadata": {}
  },
  {
   "cell_type": "code",
   "execution_count": null,
   "source": [
    "model_path = autoencoder_results_path.joinpath(\n",
    "    utils.select_autoencoder_model(model_input_type='any', results=results, mode='mse', start=6, end=7))\n",
    "#model_path = autoencoder_results_path.joinpath(\"cnn-cut-481\")\n",
    "\n",
    "model_input_type = \"-\".join(model_path.name.split('-')[:2])\n",
    "\n",
    "y_pred = np.load(model_path.joinpath('predictions.npy'))\n",
    "mses = np.load(model_path.joinpath('mses.npy'))\n",
    "\n",
    "trues, preds = autoencoder_utils.select_predictions(mode='mse', n_to_sample=5, y_true=y_trues[model_input_type],\n",
    "                                                    y_pred=y_pred, mses=mses, start=0, end=1)\n",
    "\n",
    "plt.figure(num=1, figsize=(10, 15))\n",
    "plt.title(model_path.name)\n",
    "autoencoder_utils.plot_preds(fig_num=1,\n",
    "                             y_true=trues,\n",
    "                             y_pred=preds,\n",
    "                             n_agents=n_agents,\n",
    "                             n_options=n_options)\n",
    "plt.tight_layout()\n",
    "plt.show()"
   ],
   "outputs": [],
   "metadata": {}
  },
  {
   "cell_type": "markdown",
   "source": [
    "# Best Models predictions"
   ],
   "metadata": {}
  },
  {
   "cell_type": "code",
   "execution_count": null,
   "source": [
    "best_results_models = [(model_input_type, np.argmin(results[results['Model-Input Type'] == model_input_type]['MSE']))\n",
    "                       for model_input_type in ['cnn-complete', 'cnn-cut', 'dnn-complete', 'dnn-cut']]\n",
    "\n",
    "plt.figure(figsize=(40, 60), dpi=150)\n",
    "for i, (model_input_type, ind) in enumerate(best_results_models):\n",
    "    model_name = model_input_type + '-' + str(ind)\n",
    "    model_path = autoencoder_results_path.joinpath(model_name)\n",
    "    plt.subplot(1, 4, i + 1)\n",
    "    plt.imshow(mpimg.imread(model_path.joinpath('worst_predictions.png')))\n",
    "    plt.title(model_name)\n",
    "    plt.axis('off')\n",
    "\n",
    "plt.show()"
   ],
   "outputs": [],
   "metadata": {}
  },
  {
   "cell_type": "markdown",
   "source": [
    "# Autoencoder n_params distribution"
   ],
   "metadata": {}
  },
  {
   "cell_type": "code",
   "execution_count": null,
   "source": [
    "plt.figure(figsize=(15, 15))\n",
    "for i, model_input_type in enumerate(model_input_types):\n",
    "    plt.subplot(4, 1, i+1)\n",
    "    n_params_dist = results[results[\"Model-Input Type\"] == model_input_type][\"N. Params\"].values\n",
    "    plt.hist(n_params_dist, bins=50)\n",
    "    plt.xscale(\"log\")\n",
    "    plt.title(\"{} --- n_models: {} --- mean: {}\".format(model_input_type, n_params_dist.shape[0], format(np.mean(n_params_dist), \"3.2e\")))\n",
    "plt.show()"
   ],
   "outputs": [],
   "metadata": {}
  }
 ],
 "metadata": {
  "orig_nbformat": 4,
  "kernelspec": {
   "name": "social-dynamics",
   "display_name": "social-dynamics",
   "language": "python"
  },
  "interpreter": {
   "hash": "e9ae0c68b50dbe7f0857f7e7224d431b77dcd9f0ab924727bcb2969f1e763b2b"
  }
 },
 "nbformat": 4,
 "nbformat_minor": 2
}