{
 "cells": [
  {
   "cell_type": "code",
   "execution_count": null,
   "metadata": {},
   "outputs": [],
   "source": [
    "import imageio\n",
    "import io\n",
    "import numpy as np\n",
    "import matplotlib.pyplot as plt\n",
    "import os\n",
    "from pathlib import Path\n",
    "from scipy.special import softmax\n",
    "import ternary\n",
    "import time\n",
    "from tqdm import tqdm\n",
    "import utils\n",
    "\n",
    "%matplotlib inline"
   ]
  },
  {
   "cell_type": "code",
   "execution_count": null,
   "metadata": {},
   "outputs": [],
   "source": [
    "if \"maler\" in str(Path(\".\").resolve()):\n",
    "    absolute_path = Path(\"C:/Users/maler/Federico/Lavoro/ZIB/experiments_results\") \n",
    "elif \"luziehel\" in str(Path(\".\").resolve()):\n",
    "    absolute_path = Path(\"C:/Users/luziehel/Code/experiments_results\")\n",
    "\n",
    "series_dir = absolute_path.joinpath(\"2_opt-h_luzie-gamma_delta_expl\")\n",
    "series_dir = absolute_path.joinpath(\"2_opt-h_luzie-alpha_beta_gamma_delta_expl\")\n",
    "series_dir = absolute_path.joinpath(\"2_opt-h_luzie-alpha_beta_gamma_delta_expl-0.0001t\")\n",
    "\n",
    "experiment_runs_folders = [folder for folder in series_dir.iterdir()]"
   ]
  },
  {
   "cell_type": "markdown",
   "metadata": {},
   "source": [
    "# Single Random Experiment Plot"
   ]
  },
  {
   "cell_type": "code",
   "execution_count": null,
   "metadata": {},
   "outputs": [],
   "source": [
    "folder = np.random.choice(experiment_runs_folders)\n",
    "metrics_results = utils.load_metrics(folder)\n",
    "\n",
    "print(folder)\n",
    "\n",
    "# This is used to linearize the plots by sampling on every x time_steps\n",
    "x = 1\n",
    "\n",
    "state_metric = metrics_results['StateMetric'][::x]\n",
    "n_agents = state_metric.shape[1]\n",
    "n_options = state_metric.shape[2]\n",
    "\n",
    "sigma = 0.2\n",
    "softmax_options = softmax(sigma*state_metric, axis=2)\n",
    "\n",
    "utils.plot_agents_option(state_metric)"
   ]
  },
  {
   "cell_type": "code",
   "execution_count": null,
   "metadata": {},
   "outputs": [],
   "source": [
    "utils.plot_agents_option(softmax_options)"
   ]
  },
  {
   "cell_type": "markdown",
   "metadata": {},
   "source": [
    "# Save Plot"
   ]
  },
  {
   "cell_type": "code",
   "execution_count": null,
   "metadata": {},
   "outputs": [],
   "source": [
    "save_path = Path(f\"Plots/wavelike-{folder.name}.png\")\n",
    "utils.plot_agents_option(state_metric, save_path=save_path)"
   ]
  },
  {
   "cell_type": "markdown",
   "metadata": {},
   "source": [
    "# Defined Experiment Plot"
   ]
  },
  {
   "cell_type": "code",
   "execution_count": null,
   "metadata": {},
   "outputs": [],
   "source": [
    "folder = series_dir.joinpath(\"0.8alpha_-0.4beta_-1.6gamma_-0.8delta\")\n",
    "metrics_results = utils.load_metrics(os.path.join(experiment_folder, folder))\n",
    "\n",
    "# This is used to linearize the plots by sampling on every x time_steps\n",
    "x = 1\n",
    "\n",
    "state_metric = metrics_results['StateMetric'][::x]\n",
    "n_agents = state_metric.shape[1]\n",
    "n_options = state_metric.shape[2]\n",
    "\n",
    "sigma = 0.2\n",
    "softmax_options = softmax(sigma*state_metric, axis=2)\n",
    "\n",
    "utils.plot_agents_option(state_metric)"
   ]
  },
  {
   "cell_type": "markdown",
   "metadata": {},
   "source": [
    "# GIF Generation"
   ]
  },
  {
   "cell_type": "code",
   "execution_count": null,
   "metadata": {},
   "outputs": [],
   "source": [
    "save_path = Path(f\"Plots/wavelike-{folder.name}.gif\")\n",
    "utils.generate_gif(save_path=save_path, state_metric=state_metric)"
   ]
  },
  {
   "cell_type": "markdown",
   "metadata": {},
   "source": [
    "# Series Plot"
   ]
  },
  {
   "cell_type": "code",
   "execution_count": null,
   "metadata": {},
   "outputs": [],
   "source": [
    "for folder in experiment_runs_folders:\n",
    "    gamma, delta = [param[:3] for param in folder.name.split(\"_\")]\n",
    "    metrics_results = utils.load_metrics(folder)"
   ]
  },
  {
   "cell_type": "code",
   "execution_count": null,
   "metadata": {},
   "outputs": [],
   "source": [
    "agreement_folders = []\n",
    "for folder in tqdm(experiment_runs_folders):\n",
    "    if folder.is_dir():\n",
    "        metrics_results = utils.load_metrics(folder)\n",
    "        if np.any(np.all(metrics_results[\"AgreementMetric\"] == 1, axis=1)):\n",
    "            agreement_folders.append(folder.name)\n",
    "\n",
    "print(\"\\n\", len(agreement_folders))"
   ]
  },
  {
   "cell_type": "code",
   "execution_count": null,
   "metadata": {},
   "outputs": [],
   "source": [
    "stable_agreement_folders = []\n",
    "for folder in tqdm(experiment_runs_folders):\n",
    "    if folder.is_dir():\n",
    "        metrics_results = utils.load_metrics(folder)\n",
    "        if np.any(np.all(metrics_results[\"AgreementMetric\"] == 1, axis=1)):\n",
    "            start_agreement = np.min(np.argwhere(np.all(metrics_results[\"AgreementMetric\"] == 1, axis=1)))\n",
    "            if np.all(np.all(metrics_results[\"AgreementMetric\"][start_agreement:] == 1, axis=1)):\n",
    "                stable_agreement_folders.append(folder.name)\n",
    "\n",
    "print(\"\\n\", len(stable_agreement_folders))"
   ]
  },
  {
   "cell_type": "code",
   "execution_count": null,
   "metadata": {},
   "outputs": [],
   "source": [
    "stable_disagreement_folders = []\n",
    "check = []\n",
    "alternative = []\n",
    "last_check = []\n",
    "for folder in tqdm(experiment_runs_folders):\n",
    "    if folder.is_dir():\n",
    "        metrics_results = utils.load_metrics(folder)\n",
    "        agreement_metric = metrics_results[\"AgreementMetric\"][::50]\n",
    "        flag = False\n",
    "        for i in range(agreement_metric.shape[0] - 1):\n",
    "            if np.all(agreement_metric[i] == agreement_metric[i+1]):\n",
    "                flag = True\n",
    "                if np.mean(np.all(agreement_metric[i+1:] == agreement_metric[i], axis=1)) > 0.95:\n",
    "                    stable_disagreement_folders.append(folder.name)\n",
    "                    break\n",
    "                elif np.mean(np.all(agreement_metric[i+1:] == agreement_metric[i], axis=1)) < 0.02:\n",
    "                    check.append(folder.name)\n",
    "                    break\n",
    "                else:\n",
    "                    alternative.append(folder.name)\n",
    "                    break\n",
    "        if not flag:\n",
    "            last_check.append(folder.name)\n",
    "                \n",
    "\n",
    "print(\"\\n\", len(stable_disagreement_folders))"
   ]
  },
  {
   "cell_type": "code",
   "execution_count": null,
   "metadata": {},
   "outputs": [],
   "source": [
    "print(len(stable_disagreement_folders), len(check), len(alternative), len(last_check))"
   ]
  },
  {
   "cell_type": "code",
   "execution_count": null,
   "metadata": {},
   "outputs": [],
   "source": [
    "consensus_folders = []\n",
    "for folder in tqdm(experiment_runs_folders):\n",
    "    if folder.is_dir():\n",
    "        metrics_results = utils.load_metrics(folder)\n",
    "        if np.any(metrics_results[\"ConsensusMetric\"] == 1):\n",
    "            consensus_folders.append(folder.name)\n",
    "\n",
    "print(consensus_folders)"
   ]
  },
  {
   "cell_type": "code",
   "execution_count": null,
   "metadata": {},
   "outputs": [],
   "source": []
  }
 ],
 "metadata": {
  "kernelspec": {
   "display_name": "zib-work",
   "language": "python",
   "name": "zib-work"
  },
  "language_info": {
   "codemirror_mode": {
    "name": "ipython",
    "version": 3
   },
   "file_extension": ".py",
   "mimetype": "text/x-python",
   "name": "python",
   "nbconvert_exporter": "python",
   "pygments_lexer": "ipython3",
   "version": "3.8.7"
  }
 },
 "nbformat": 4,
 "nbformat_minor": 4
}