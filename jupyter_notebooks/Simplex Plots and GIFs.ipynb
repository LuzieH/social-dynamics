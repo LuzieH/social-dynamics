{
 "cells": [
  {
   "cell_type": "code",
   "execution_count": null,
   "metadata": {},
   "outputs": [],
   "source": [
    "import numpy as np\n",
    "import matplotlib.pyplot as plt\n",
    "import os\n",
    "import utils\n",
    "import ternary\n",
    "import imageio\n",
    "from scipy.special import softmax"
   ]
  },
  {
   "cell_type": "code",
   "execution_count": null,
   "metadata": {},
   "outputs": [],
   "source": [
    "absolute_path = \"C:/Users/maler/Google Drive/Lavoro/Zuse Institute/Code/experiments_results\" #\"C:/Users/luziehel/Code/experiments_results\"\n",
    "experiment_folder = absolute_path + \"/luzie_net\"\n",
    "\n",
    "experiment_run_folder = experiment_folder + '/0'"
   ]
  },
  {
   "cell_type": "code",
   "execution_count": null,
   "metadata": {},
   "outputs": [],
   "source": [
    "metrics_results = utils.load_metrics(experiment_run_folder)"
   ]
  },
  {
   "cell_type": "code",
   "execution_count": null,
   "metadata": {},
   "outputs": [],
   "source": [
    "state_metric = metrics_results['StateMetric']\n",
    "n_agents = state_metric.shape[1]\n",
    "n_options = state_metric.shape[2]\n",
    "\n",
    "# This is used to linearize the plots by sampling on every x time_steps\n",
    "x = 100"
   ]
  },
  {
   "cell_type": "code",
   "execution_count": null,
   "metadata": {},
   "outputs": [],
   "source": [
    "R = np.max(np.abs(state_metric))\n",
    "mapped_options = (state_metric/(n_options*R) + 1/n_options)[::x]"
   ]
  },
  {
   "cell_type": "code",
   "execution_count": null,
   "metadata": {},
   "outputs": [],
   "source": [
    "sigma = 0.2\n",
    "mapped_options2 = softmax(sigma*state_metric[::x], axis=2)"
   ]
  },
  {
   "cell_type": "markdown",
   "metadata": {},
   "source": [
    "# Simplex Plot"
   ]
  },
  {
   "cell_type": "code",
   "execution_count": null,
   "metadata": {},
   "outputs": [],
   "source": [
    "utils.plot_agents_simplex(mapped_options[::x])"
   ]
  },
  {
   "cell_type": "code",
   "execution_count": null,
   "metadata": {},
   "outputs": [],
   "source": [
    "utils.plot_agents_simplex(mapped_options2)"
   ]
  },
  {
   "cell_type": "markdown",
   "metadata": {},
   "source": [
    "# GIF"
   ]
  },
  {
   "cell_type": "code",
   "execution_count": null,
   "metadata": {},
   "outputs": [],
   "source": [
    "save_path = \"C:/Users/maler/Federico/Lavoro/ZIB/plots/\"\n",
    "\n",
    "filenames = []\n",
    "for i in range(5, mapped_options.shape[0]- 5):\n",
    "    filename = f'{save_path}{i}.png'\n",
    "    filenames.append(filename)\n",
    "\n",
    "    to_plot = mapped_options[i:i+5]\n",
    "    \n",
    "    utils.plot_agents_simpex(to_plot, filename)\n",
    "\n",
    "# build gif\n",
    "with imageio.get_writer('fading.gif', mode='I') as writer:\n",
    "    for filename in filenames:\n",
    "        image = imageio.imread(filename)\n",
    "        writer.append_data(image)\n",
    "        \n",
    "# Remove files\n",
    "for filename in set(filenames):\n",
    "    os.remove(filename)"
   ]
  },
  {
   "cell_type": "code",
   "execution_count": null,
   "metadata": {},
   "outputs": [],
   "source": []
  }
 ],
 "metadata": {
  "kernelspec": {
   "name": "python3",
   "display_name": "Python 3.8.7 64-bit ('venv')",
   "metadata": {
    "interpreter": {
     "hash": "c95d02cc229f99ffd81d598710ed6bb97c76f4552705126649fea46ba64bec79"
    }
   }
  },
  "language_info": {
   "codemirror_mode": {
    "name": "ipython",
    "version": 3
   },
   "file_extension": ".py",
   "mimetype": "text/x-python",
   "name": "python",
   "nbconvert_exporter": "python",
   "pygments_lexer": "ipython3",
   "version": "3.8.7-final"
  }
 },
 "nbformat": 4,
 "nbformat_minor": 2
}