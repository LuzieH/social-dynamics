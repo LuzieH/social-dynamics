{
 "cells": [
  {
   "cell_type": "code",
   "execution_count": null,
   "metadata": {},
   "outputs": [],
   "source": [
    "import numpy as np\n",
    "import matplotlib.pyplot as plt\n",
    "import os\n",
    "import utils\n",
    "import ternary\n",
    "import imageio\n",
    "from scipy.special import softmax"
   ]
  },
  {
   "cell_type": "code",
   "execution_count": null,
   "metadata": {},
   "outputs": [],
   "source": [
    "absolute_path = \"C:/Users/maler/Google Drive/Lavoro/Zuse Institute/Code/experiments_results\" #\"C:/Users/luziehel/Code/experiments_results\"\n",
    "experiment_folder = absolute_path + \"/homogenous_luzie\"\n",
    "\n",
    "experiment_run_folder = experiment_folder + '/1'"
   ]
  },
  {
   "cell_type": "code",
   "execution_count": null,
   "metadata": {},
   "outputs": [],
   "source": [
    "metrics_results = utils.load_metrics(experiment_run_folder)"
   ]
  },
  {
   "cell_type": "code",
   "execution_count": null,
   "metadata": {},
   "outputs": [],
   "source": [
    "state_metric = metrics_results['StateMetric']\n",
    "n_agents = state_metric.shape[1]\n",
    "n_options = state_metric.shape[2]\n",
    "\n",
    "# This is used to linearize the plots by sampling on every x time_steps\n",
    "x = 100"
   ]
  },
  {
   "cell_type": "code",
   "execution_count": null,
   "metadata": {},
   "outputs": [],
   "source": [
    "#R = np.max(np.abs(state_metric))\n",
    "#mapped_options = (state_metric/(n_options*R) + 1/n_options)[::x]"
   ]
  },
  {
   "cell_type": "code",
   "execution_count": null,
   "metadata": {},
   "outputs": [],
   "source": [
    "sigma = 0.2\n",
    "softmax_options = softmax(sigma*state_metric[::x], axis=2)"
   ]
  },
  {
   "cell_type": "code",
   "execution_count": null,
   "metadata": {},
   "outputs": [],
   "source": [
    "utils.plot_agents_option(state_metric)"
   ]
  },
  {
   "cell_type": "code",
   "execution_count": null,
   "metadata": {},
   "outputs": [],
   "source": [
    "utils.plot_agents_option(softmax_options)"
   ]
  }
 ],
 "metadata": {
  "kernelspec": {
   "display_name": "Python 3",
   "language": "python",
   "name": "python3"
  },
  "language_info": {
   "codemirror_mode": {
    "name": "ipython",
    "version": 3
   },
   "file_extension": ".py",
   "mimetype": "text/x-python",
   "name": "python",
   "nbconvert_exporter": "python",
   "pygments_lexer": "ipython3",
   "version": "3.8.7"
  }
 },
 "nbformat": 4,
 "nbformat_minor": 4
}