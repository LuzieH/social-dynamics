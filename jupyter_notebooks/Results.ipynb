{
 "cells": [
  {
   "cell_type": "code",
   "execution_count": null,
   "metadata": {},
   "outputs": [],
   "source": [
    "import numpy as np\n",
    "import matplotlib.pyplot as plt\n",
    "import os\n",
    "import utils\n",
    "import ternary\n",
    "import imageio\n",
    "from scipy.special import softmax"
   ]
  },
  {
   "cell_type": "code",
   "execution_count": null,
   "metadata": {},
   "outputs": [],
   "source": [
    "absolute_path = \"C:/Users/maler/Google Drive/Lavoro/Zuse Institute/Code/experiments_results\" #\"C:/Users/luziehel/Code/experiments_results\"\n",
    "experiment_folder = absolute_path + \"/base\"\n",
    "\n",
    "experiment_run_folder = experiment_folder + '/4'"
   ]
  },
  {
   "cell_type": "code",
   "execution_count": null,
   "metadata": {},
   "outputs": [],
   "source": [
    "metrics_results = utils.load_metrics(experiment_run_folder)"
   ]
  },
  {
   "cell_type": "code",
   "execution_count": null,
   "metadata": {},
   "outputs": [],
   "source": [
    "agent_metric = metrics_results['AgentMetric']\n",
    "n_agents = agent_metric.shape[1]\n",
    "n_options = agent_metric.shape[2]\n",
    "R = np.max(np.abs(agent_metric))"
   ]
  },
  {
   "cell_type": "code",
   "execution_count": null,
   "metadata": {},
   "outputs": [],
   "source": [
    "mapped_options = agent_metric/(n_options*R) + 1/n_options\n",
    "\n",
    "# This is used to linearize the plots by sampling on every x time_steps\n",
    "x = 100"
   ]
  },
  {
   "cell_type": "code",
   "execution_count": null,
   "metadata": {},
   "outputs": [],
   "source": [
    "sigma = 0.2\n",
    "mapped_options2 = softmax(sigma*agent_metric[::x], axis=2)"
   ]
  },
  {
   "cell_type": "code",
   "execution_count": null,
   "metadata": {},
   "outputs": [],
   "source": [
    "plt.figure(figsize=(14, 8))\n",
    "for option in range(n_options):\n",
    "    plt.subplot(n_options, 1, option+1)\n",
    "    for agent in range(n_agents):\n",
    "        plt.plot(agent_metric[::x, agent, option], label=str(agent))\n",
    "        plt.legend()\n",
    "        plt.title(\"Option \"+str(option))\n",
    "\n",
    "plt.tight_layout()\n",
    "plt.show()"
   ]
  },
  {
   "cell_type": "code",
   "execution_count": null,
   "metadata": {},
   "outputs": [],
   "source": [
    "plt.figure(figsize=(14, 8))\n",
    "for option in range(n_options):\n",
    "    plt.subplot(n_options, 1, option+1)\n",
    "    for agent in range(n_agents):\n",
    "        plt.plot(mapped_options[::x, agent, option], label=str(agent))\n",
    "        plt.legend()\n",
    "        plt.title(\"Option \"+str(option))\n",
    "\n",
    "plt.tight_layout()\n",
    "plt.show()"
   ]
  },
  {
   "cell_type": "code",
   "execution_count": null,
   "metadata": {},
   "outputs": [],
   "source": [
    "plt.figure(figsize=(14, 8))\n",
    "for option in range(n_options):\n",
    "    plt.subplot(n_options, 1, option+1)\n",
    "    for agent in range(n_agents):\n",
    "        plt.plot(mapped_options2[:, agent, option], label=str(agent))\n",
    "        plt.legend()\n",
    "        plt.title(\"Option \"+str(option))"
   ]
  },
  {
   "cell_type": "markdown",
   "metadata": {},
   "source": [
    "# Simplex Plot"
   ]
  },
  {
   "cell_type": "code",
   "execution_count": null,
   "metadata": {},
   "outputs": [],
   "source": [
    "utils.plot_agents(mapped_options[::x,:,:])"
   ]
  },
  {
   "cell_type": "code",
   "execution_count": null,
   "metadata": {},
   "outputs": [],
   "source": [
    "utils.plot_agents(mapped_options2)"
   ]
  },
  {
   "cell_type": "markdown",
   "metadata": {},
   "source": [
    "# GIF"
   ]
  },
  {
   "cell_type": "code",
   "execution_count": null,
   "metadata": {},
   "outputs": [],
   "source": [
    "save_path = \"C:/Users/maler/Federico/Lavoro/ZIB/plots/\"\n",
    "#save_path = \"../../plots/\"\n",
    "\n",
    "filenames = []\n",
    "for i in range(5, mapped_options.shape[0]- 5):\n",
    "    filename = f'{save_path}{i}.png'\n",
    "    filenames.append(filename)\n",
    "\n",
    "    to_plot = mapped_options[i:i+5]\n",
    "    \n",
    "    utils.plot_agents(to_plot, filename)\n",
    "\n",
    "# build gif\n",
    "with imageio.get_writer('fading.gif', mode='I') as writer:\n",
    "    for filename in filenames:\n",
    "        image = imageio.imread(filename)\n",
    "        writer.append_data(image)\n",
    "        \n",
    "# Remove files\n",
    "for filename in set(filenames):\n",
    "    os.remove(filename)"
   ]
  },
  {
   "cell_type": "code",
   "execution_count": null,
   "metadata": {},
   "outputs": [],
   "source": []
  }
 ],
 "metadata": {
  "kernelspec": {
   "display_name": "zib-work",
   "language": "python",
   "name": "zib-work"
  },
  "language_info": {
   "codemirror_mode": {
    "name": "ipython",
    "version": 3
   },
   "file_extension": ".py",
   "mimetype": "text/x-python",
   "name": "python",
   "nbconvert_exporter": "python",
   "pygments_lexer": "ipython3",
   "version": "3.8.7"
  }
 },
 "nbformat": 4,
 "nbformat_minor": 2
}
