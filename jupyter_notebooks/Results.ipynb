{
 "cells": [
  {
   "cell_type": "code",
   "execution_count": null,
   "metadata": {},
   "outputs": [],
   "source": [
    "import imageio\n",
    "import numpy as np\n",
    "import matplotlib.pyplot as plt\n",
    "import os\n",
    "from pathlib import Path\n",
    "from scipy.special import softmax\n",
    "import ternary\n",
    "from tqdm import tqdm\n",
    "import utils\n",
    "\n",
    "%matplotlib inline"
   ]
  },
  {
   "cell_type": "code",
   "execution_count": null,
   "metadata": {},
   "outputs": [],
   "source": [
    "if \"maler\" in str(Path(\".\").resolve()):\n",
    "    absolute_path = Path(\"C:/Users/maler/Federico/Lavoro/ZIB/experiments_results\") \n",
    "elif \"luziehel\" in str(Path(\".\").resolve()):\n",
    "    absolute_path = Path(\"C:/Users/luziehel/Code/experiments_results\")\n",
    "\n",
    "experiment_folder = absolute_path.joinpath(\"/homogenous_luzie\")\n",
    "\n",
    "experiment_run_folder = experiment_folder.joinpath('/1')"
   ]
  },
  {
   "cell_type": "code",
   "execution_count": null,
   "metadata": {},
   "outputs": [],
   "source": [
    "metrics_results = utils.load_metrics(experiment_run_folder)"
   ]
  },
  {
   "cell_type": "code",
   "execution_count": null,
   "metadata": {},
   "outputs": [],
   "source": [
    "state_metric = metrics_results['StateMetric']\n",
    "n_agents = state_metric.shape[1]\n",
    "n_options = state_metric.shape[2]\n",
    "\n",
    "# This is used to linearize the plots by sampling on every x time_steps\n",
    "x = 100"
   ]
  },
  {
   "cell_type": "code",
   "execution_count": null,
   "metadata": {},
   "outputs": [],
   "source": [
    "#R = np.max(np.abs(state_metric))\n",
    "#mapped_options = (state_metric/(n_options*R) + 1/n_options)[::x]"
   ]
  },
  {
   "cell_type": "code",
   "execution_count": null,
   "metadata": {},
   "outputs": [],
   "source": [
    "sigma = 0.2\n",
    "softmax_options = softmax(sigma*state_metric[::x], axis=2)"
   ]
  },
  {
   "cell_type": "code",
   "execution_count": null,
   "metadata": {},
   "outputs": [],
   "source": [
    "utils.plot_agents_option(state_metric)"
   ]
  },
  {
   "cell_type": "code",
   "execution_count": null,
   "metadata": {},
   "outputs": [],
   "source": [
    "utils.plot_agents_option(softmax_options)"
   ]
  }
 ],
 "metadata": {
  "kernelspec": {
   "name": "python387jvsc74a57bd0c95d02cc229f99ffd81d598710ed6bb97c76f4552705126649fea46ba64bec79",
   "display_name": "Python 3.8.7 64-bit ('venv')"
  },
  "language_info": {
   "codemirror_mode": {
    "name": "ipython",
    "version": 3
   },
   "file_extension": ".py",
   "mimetype": "text/x-python",
   "name": "python",
   "nbconvert_exporter": "python",
   "pygments_lexer": "ipython3",
   "version": "3.8.7"
  }
 },
 "nbformat": 4,
 "nbformat_minor": 4
}