{
 "metadata": {
  "language_info": {
   "codemirror_mode": {
    "name": "ipython",
    "version": 3
   },
   "file_extension": ".py",
   "mimetype": "text/x-python",
   "name": "python",
   "nbconvert_exporter": "python",
   "pygments_lexer": "ipython3",
   "version": "3.8.7"
  },
  "orig_nbformat": 2,
  "kernelspec": {
   "name": "zib-work",
   "display_name": "zib-work",
   "language": "python"
  }
 },
 "nbformat": 4,
 "nbformat_minor": 2,
 "cells": [
  {
   "cell_type": "code",
   "execution_count": null,
   "metadata": {},
   "outputs": [],
   "source": [
    "import matplotlib.pyplot as plt\n",
    "import numpy as np\n",
    "import os\n",
    "from pathlib import Path\n",
    "import tensorflow as tf\n",
    "from tensorflow.keras.models import Model\n",
    "from tensorflow.keras.losses import MSE\n",
    "import utils\n",
    "from social_dynamics.autoencoder_utils import create_dataset\n",
    "\n",
    "os.environ['CUDA_VISIBLE_DEVICES'] = '-1'\n"
   ]
  },
  {
   "cell_type": "code",
   "execution_count": null,
   "metadata": {},
   "outputs": [],
   "source": [
    "if \"maler\" in str(Path(\".\").resolve()):\n",
    "    absolute_path = Path(\"C:/Users/maler/Federico/Lavoro/ZIB/experiments_results\") \n",
    "elif \"luziehel\" in str(Path(\".\").resolve()):\n",
    "    absolute_path = Path(\"C:/Users/luziehel/Code/experiments_results\")\n",
    "\n",
    "experiment_series_folder = absolute_path.joinpath(\"2_opt-h_luzie-gamma_delta_expl\")\n",
    "experiment_series_folder = absolute_path.joinpath(\"2_opt-h_luzie-alpha_beta_gamma_delta_expl\")\n",
    "experiment_series_folder = absolute_path.joinpath(\"2_opt-h_luzie-alpha_beta_gamma_delta_expl-0.0001t\")\n",
    "\n",
    "experiment_runs_folders = [folder for folder in experiment_series_folder.iterdir()]\n",
    "\n",
    "model_type = \"dnn\"\n",
    "model_path = Path(\"C:/Users/maler/Federico/Lavoro/ZIB/autoencoder_clustering/autoencoder_model/model.h5\")"
   ]
  },
  {
   "cell_type": "code",
   "execution_count": null,
   "metadata": {},
   "outputs": [],
   "source": [
    "model = tf.keras.models.load_model(model_path)\n",
    "autoencoder = Model(model.input, model.get_layer('embedding').output)"
   ]
  },
  {
   "cell_type": "code",
   "execution_count": null,
   "metadata": {},
   "outputs": [],
   "source": [
    "folder = np.random.choice(experiment_runs_folders)\n",
    "state_metric = utils.load_metrics(folder)[\"StateMetric\"][::4]\n",
    "inputs = state_metric.flatten()\n",
    "assert np.all(np.reshape(inputs, state_metric.shape) == state_metric)\n",
    "\n",
    "preds = model.predict(inputs[np.newaxis])"
   ]
  },
  {
   "cell_type": "code",
   "execution_count": null,
   "metadata": {},
   "outputs": [],
   "source": [
    "utils.plot_agents_option(state_metric)"
   ]
  },
  {
   "cell_type": "code",
   "execution_count": null,
   "metadata": {},
   "outputs": [],
   "source": [
    "utils.plot_agents_option(np.reshape(preds, state_metric.shape))"
   ]
  },
  {
   "source": [
    "# Random plots"
   ],
   "cell_type": "markdown",
   "metadata": {}
  },
  {
   "cell_type": "code",
   "execution_count": null,
   "metadata": {},
   "outputs": [],
   "source": [
    "folders = np.random.choice(experiment_runs_folders, size=10)\n",
    "state_metrics = [utils.load_metrics(folder)[\"StateMetric\"][::4] for folder in folders]\n",
    "inputs = np.array([state_metric.flatten() for state_metric in state_metrics])\n",
    "\n",
    "preds = model.predict(inputs)\n",
    "\n",
    "n_agents, n_options = state_metrics[0].shape[1:]\n",
    "\n",
    "plt.figure(figsize=(20, 60))\n",
    "for i in range(len(state_metrics)):\n",
    "\n",
    "    for option in range(n_options):\n",
    "        plt.subplot(n_options*len(state_metrics), 2, 1 + i*4 + option*2)\n",
    "        for agent in range(n_agents):\n",
    "            plt.plot(state_metrics[i][:, agent, option], label=str(agent))\n",
    "            #plt.legend()\n",
    "            #plt.title(\"Option \"+ str(option+1))\n",
    "    for option in range(n_options):\n",
    "        plt.subplot(n_options*len(state_metrics), 2, 2 + i*4 + option*2)\n",
    "        for agent in range(n_agents):\n",
    "            to_plot = np.reshape(preds[i], state_metrics[0].shape)\n",
    "            plt.plot(to_plot[:, agent, option], label=str(agent))\n",
    "\n",
    "plt.tight_layout()\n",
    "\n",
    "\n",
    "plt.show()"
   ]
  },
  {
   "source": [
    "# Testing"
   ],
   "cell_type": "markdown",
   "metadata": {}
  },
  {
   "cell_type": "code",
   "execution_count": null,
   "metadata": {},
   "outputs": [],
   "source": [
    "dataset = create_dataset(experiment_series_folder, model_type=model_type, downsampling=4)\n",
    "file_pattern = str(experiment_series_folder) + \"/*/StateMetric/results_t200000.npy\"\n",
    "file_dataset = tf.data.Dataset.list_files(file_pattern=file_pattern, shuffle=False)"
   ]
  },
  {
   "cell_type": "code",
   "execution_count": null,
   "metadata": {},
   "outputs": [],
   "source": [
    "y_preds = model.predict(dataset.batch(128).prefetch(tf.data.experimental.AUTOTUNE))\n",
    "y_true = np.array(list(dataset.as_numpy_iterator()))[:, 1, :]\n",
    "mses = MSE(y_true, y_preds)"
   ]
  },
  {
   "cell_type": "code",
   "execution_count": null,
   "metadata": {},
   "outputs": [],
   "source": [
    "worse_preds = np.argsort(mses)[-100:]\n",
    "worse_files = np.array(list(file_dataset.as_numpy_iterator()))[worse_preds]"
   ]
  },
  {
   "cell_type": "code",
   "execution_count": null,
   "metadata": {},
   "outputs": [],
   "source": [
    "files = np.random.choice(worse_files, size=10)\n",
    "state_metrics = [np.load(file)[::4] for file in files]\n",
    "inputs = np.array([state_metric.flatten() for state_metric in state_metrics])\n",
    "\n",
    "preds = model.predict(inputs)\n",
    "\n",
    "n_agents, n_options = state_metrics[0].shape[1:]\n",
    "\n",
    "plt.figure(figsize=(20, 60))\n",
    "for i in range(len(state_metrics)):\n",
    "\n",
    "    for option in range(n_options):\n",
    "        plt.subplot(n_options*len(state_metrics), 2, 1 + i*4 + option*2)\n",
    "        for agent in range(n_agents):\n",
    "            plt.plot(state_metrics[i][:, agent, option], label=str(agent))\n",
    "            #plt.legend()\n",
    "            #plt.title(\"Option \"+ str(option+1))\n",
    "    for option in range(n_options):\n",
    "        plt.subplot(n_options*len(state_metrics), 2, 2 + i*4 + option*2)\n",
    "        for agent in range(n_agents):\n",
    "            to_plot = np.reshape(preds[i], state_metrics[0].shape)\n",
    "            plt.plot(to_plot[:, agent, option], label=str(agent))\n",
    "\n",
    "plt.tight_layout()\n",
    "\n",
    "\n",
    "plt.show()"
   ]
  },
  {
   "cell_type": "code",
   "execution_count": null,
   "metadata": {},
   "outputs": [],
   "source": []
  }
 ]
}